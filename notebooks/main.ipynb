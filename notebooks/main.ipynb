{
 "cells": [
  {
   "cell_type": "code",
   "execution_count": 1,
   "id": "e288282f",
   "metadata": {},
   "outputs": [],
   "source": [
    "import ee  \n",
    "import geemap\n",
    "import ipywidgets as widgets\n",
    "import pandas as pd\n",
    "import plotly.graph_objects as go\n",
    "from IPython.display import display\n",
    "output = widgets.Output()"
   ]
  },
  {
   "cell_type": "code",
   "execution_count": 2,
   "id": "b7ca91d0",
   "metadata": {},
   "outputs": [],
   "source": [
    "##Google Earth Engine Application  "
   ]
  },
  {
   "cell_type": "code",
   "execution_count": 3,
   "id": "60c9efb8",
   "metadata": {},
   "outputs": [],
   "source": [
    "try:\n",
    "        ee.Initialize()\n",
    "except Exception as e:\n",
    "        ee.Authenticate()\n",
    "        ee.Initialize()"
   ]
  },
  {
   "cell_type": "code",
   "execution_count": 4,
   "id": "bfa27a40",
   "metadata": {},
   "outputs": [],
   "source": [
    "Map = geemap.Map(center=[20,78], zoom=4)"
   ]
  },
  {
   "cell_type": "code",
   "execution_count": 5,
   "id": "e8676f3a",
   "metadata": {},
   "outputs": [
    {
     "data": {
      "application/vnd.jupyter.widget-view+json": {
       "model_id": "21e79b59af334b00937904e3089a7e0a",
       "version_major": 2,
       "version_minor": 0
      },
      "text/plain": [
       "Dropdown(description='Select State:', options=('--Select--', 'Andhra Pradesh', 'Arunachal Pradesh', 'Assam', '…"
      ]
     },
     "metadata": {},
     "output_type": "display_data"
    },
    {
     "data": {
      "application/vnd.jupyter.widget-view+json": {
       "model_id": "124b757fc8154edc918a848a2dcca9d5",
       "version_major": 2,
       "version_minor": 0
      },
      "text/plain": [
       "Map(center=[20, 78], controls=(WidgetControl(options=['position', 'transparent_bg'], widget=HBox(children=(Tog…"
      ]
     },
     "metadata": {},
     "output_type": "display_data"
    }
   ],
   "source": [
    "# Authenticates and initializes Earth Engine\n",
    "\n",
    "chirps = ee.ImageCollection('UCSB-CHG/CHIRPS/PENTAD')\n",
    "#region = ee.FeatureCollection(\"users/hrishippatel/IndiaStates\").filterMetadata('NAME_1', 'equals','Uttarakhand')\n",
    "region=''\n",
    "#------Dropdown\n",
    "w = widgets.Dropdown(\n",
    "    options=['--Select--','Andhra Pradesh','Arunachal Pradesh','Assam','Uttarakhand', 'Haryana', 'Gujarat', 'Uttar Pradesh', 'Punjab'],\n",
    "    value='--Select--',\n",
    "    description='Select State:',\n",
    ")\n",
    "\n",
    "\n",
    "\n",
    "#onchange Function\n",
    "def on_change(change):\n",
    "    if change['type'] == 'change' and change['name'] == 'value':\n",
    "        change['new']\n",
    "        chirps = ee.ImageCollection('UCSB-CHG/CHIRPS/PENTAD')\n",
    "        global region\n",
    "        region = ee.FeatureCollection(\"users/hrishippatel/IndiaStates\").filterMetadata('NAME_1', 'equals',change['new'])\n",
    "        precip = chirps.filterDate('2016-01-01', '2019-12-31')\n",
    "        GujaratPrecip = precip.sum().clip(region).multiply(0.25)\n",
    "        Map.addLayer(GujaratPrecip, {'min': 0, 'max': 1000, 'palette':\"f6ffa9,1fe2b5,1da0fd,2b7bf3,141899\"},'Long-term Rainfall')\n",
    "        year = 2017\n",
    "        my_fun1(region,year)\n",
    "        years = ee.List.sequence(1981, 2019)\n",
    "        yearlyRainfall(year)\n",
    "        rainfallYears = ee.FeatureCollection(years.map(yearlyRainfall))\n",
    "        geemap.ee_to_csv(rainfallYears, filename='states1.csv')\n",
    "        #geemap.ee_export_vector(rainfallYears,region, filename='states1.csv')\n",
    "        #clear_output(wait=True)\n",
    "        \n",
    "       \n",
    "\n",
    "\n",
    "w.observe(on_change,names='value')\n",
    "display(w)\n",
    "\n",
    "def my_fun1(region,year):\n",
    "    startDate = ee.Date.fromYMD(year, 1, 1)\n",
    "    endDate = startDate.advance(1, 'year')\n",
    "    filtered = chirps \\\n",
    "    .filter(ee.Filter.date(startDate, endDate))\n",
    "\n",
    "    total = filtered.reduce(ee.Reducer.sum())\n",
    "\n",
    "    palette = ['#ffffcc','#a1dab4','#41b6c4','#2c7fb8','#253494']\n",
    "    visParams = {\n",
    "      'min':0,\n",
    "      'max': 2000,\n",
    "      'palette': palette\n",
    "    }\n",
    "#Map.addLayer(total, visParams, 'Total Precipitation')\n",
    "\n",
    "# Calculate average rainfall in Bangalore\n",
    "\n",
    "    stats = total.reduceRegion(\n",
    "        reducer = ee.Reducer.mean(),\n",
    "        geometry = region,\n",
    "        scale = 5000,\n",
    "    )\n",
    "#print(stats.get('precipitation_sum'))\n",
    "    #print(region)\n",
    "# Clip the image to the city boundary and display\n",
    "    totalBangalore = total.clip(region)\n",
    "    Map.addLayer(totalBangalore, visParams, 'Total Precipitation (states)')\n",
    "\n",
    "# Calculate average rainfall for past 35+ years\n",
    "\n",
    "#print(on_change(region))\n",
    "\n",
    "def yearlyRainfall(year):\n",
    "        startDate = ee.Date.fromYMD(year, 1, 1)\n",
    "        endDate = startDate.advance(1, 'year')\n",
    "        filtered = chirps.filter(ee.Filter.date(startDate, endDate))\n",
    "        total = filtered.reduce(ee.Reducer.sum())\n",
    "        stats = total.reduceRegion(\n",
    "            reducer = ee.Reducer.mean(),\n",
    "            geometry = region,\n",
    "            scale = 5000,\n",
    "            )\n",
    "        f = ee.Feature(None, {\n",
    "        'year': year,\n",
    "        'precipitation': stats.get('precipitation_sum')\n",
    "\n",
    "        })\n",
    "        return f\n",
    "    \n",
    "\n",
    "\n",
    "# GET DATA\n",
    "#get_data_button = widgets.Button(\n",
    "#                    description='Time Series',\n",
    "#                    button_style='info'\n",
    "#                    )\n",
    "#\n",
    "\n",
    "\n",
    "\n",
    "\n",
    "\n",
    "    \n",
    "#Export.table.toDrive({\n",
    "#  'collection': rainfallYears,\n",
    "#  'folder': 'earthengine',\n",
    "#  'fileNamePrefix': 'rainfallbyyear',\n",
    "#  'fileFormat': 'CSV'})\n",
    "#geemap.ee_export_vector(rainfallYears, filename='sumit.csv')\n",
    "\n",
    "\n",
    "\n",
    "# DISPLAY BUTTON\n",
    "#get_data_button.on_click(get_data)\n",
    "#display(get_data_button)\n",
    "#get_data_button.observe(get_data)\n",
    "Map\n",
    "\n",
    "\n",
    "\n",
    "\n",
    "\n",
    "\n",
    "     "
   ]
  },
  {
   "cell_type": "code",
   "execution_count": 7,
   "id": "7e1bcba8",
   "metadata": {},
   "outputs": [
    {
     "data": {
      "application/vnd.jupyter.widget-view+json": {
       "model_id": "f0b778ca34a04d24883405db3c50777b",
       "version_major": 2,
       "version_minor": 0
      },
      "text/plain": [
       "VBox(children=(Button(button_style='info', description='Display Chart', style=ButtonStyle()), Output()))"
      ]
     },
     "metadata": {},
     "output_type": "display_data"
    }
   ],
   "source": [
    "import ipywidgets as widgets\n",
    "from IPython.display import clear_output\n",
    "button = widgets.Button(\n",
    "    description='Display Chart',\n",
    "    button_style='info'\n",
    ")\n",
    "out = widgets.Output()\n",
    "def on_button_clicked(b):\n",
    "    button.description = 'Update Time seres'\n",
    "    with out:\n",
    "        clear_output(wait=True)\n",
    "        df = pd.read_csv('states1.csv')\n",
    "        fig = go.Figure(go.Scatter(x = df['year'], y = df['precipitation'],\n",
    "        name='Precipitation Time-Series'))\n",
    "        fig.update_layout(title='Precipitation Time-Series',\n",
    "        plot_bgcolor='rgb(230, 230,230)',\n",
    "        showlegend=True)\n",
    "        #fig.show() \n",
    "        display(fig.show())\n",
    "\n",
    "button.on_click(on_button_clicked)\n",
    "widgets.VBox([button, out])"
   ]
  },
  {
   "cell_type": "code",
   "execution_count": null,
   "id": "6e5335e6",
   "metadata": {},
   "outputs": [],
   "source": []
  }
 ],
 "metadata": {
  "kernelspec": {
   "display_name": "Python 3 (ipykernel)",
   "language": "python",
   "name": "python3"
  },
  "language_info": {
   "codemirror_mode": {
    "name": "ipython",
    "version": 3
   },
   "file_extension": ".py",
   "mimetype": "text/x-python",
   "name": "python",
   "nbconvert_exporter": "python",
   "pygments_lexer": "ipython3",
   "version": "3.9.12"
  }
 },
 "nbformat": 4,
 "nbformat_minor": 5
}
